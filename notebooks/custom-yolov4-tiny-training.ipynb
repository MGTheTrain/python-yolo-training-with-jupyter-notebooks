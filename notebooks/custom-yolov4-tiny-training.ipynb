{
 "cells": [
  {
   "cell_type": "code",
   "execution_count": null,
   "metadata": {},
   "outputs": [],
   "source": [
    "# If connected to the Google Colab VM, change runtime type in the menu bar. Select a `GPU` and `Python 3`. Save those settings."
   ]
  },
  {
   "cell_type": "code",
   "execution_count": null,
   "metadata": {},
   "outputs": [],
   "source": [
    "#mount drive\n",
    "%cd ..\n",
    "from google.colab import drive\n",
    "drive.mount('/content/gdrive')\n",
    "\n",
    "# Create a symbolic link so that now the path /content/gdrive/My\\ Drive/ is equal to /mydrive\n",
    "!ln -s /content/gdrive/My\\ Drive/ /mydrive\n",
    "\n",
    "# list contents in data-custom folder in your drive\n",
    "!ls /mydrive/data-custom"
   ]
  },
  {
   "cell_type": "code",
   "execution_count": null,
   "metadata": {},
   "outputs": [],
   "source": [
    "# Clone darknet repository\n",
    "\n",
    "!git clone https://github.com/AlexeyAB/darknet\n",
    "\n",
    "# List files and folders\n",
    "!ls -al"
   ]
  },
  {
   "cell_type": "code",
   "execution_count": null,
   "metadata": {},
   "outputs": [],
   "source": [
    "# Change to darknet directory \n",
    "%cd /darknet/"
   ]
  },
  {
   "cell_type": "code",
   "execution_count": null,
   "metadata": {},
   "outputs": [],
   "source": [
    "# Update Makefile to have GPU and OpenCV enabled\n",
    "\n",
    "!sed -i 's/OPENCV=0/OPENCV=1/' Makefile\n",
    "!sed -i 's/GPU=0/GPU=1/' Makefile\n",
    "!sed -i 's/CUDNN=0/CUDNN=1/' Makefile\n",
    "!sed -i 's/CUDNN_HALF=0/CUDNN_HALF=1/' Makefile\n",
    "!sed -i 's/LIBSO=0/LIBSO=1/' Makefile\n",
    "\n",
    "# Build darknet tool\n",
    "!make"
   ]
  },
  {
   "cell_type": "code",
   "execution_count": null,
   "metadata": {},
   "outputs": [],
   "source": [
    "# Download the yolov4-tiny pre-trained weights file\n",
    "!wget https://github.com/AlexeyAB/darknet/releases/download/darknet_yolo_v4_pre/yolov4-tiny.conv.29"
   ]
  },
  {
   "cell_type": "code",
   "execution_count": null,
   "metadata": {},
   "outputs": [],
   "source": [
    "# Copy data-custom folder to darknet folder\n",
    "!cp -r /mydrive/data-custom .\n",
    "\n",
    "# Check files required for training to yolov4-tiny model\n",
    "!ls -al | grep yolov4-tiny.conv.29\n",
    "!ls -al data-custom/obj.data data-custom/yolov4-tiny-custom.cfg\n",
    "!ls -al darknet"
   ]
  },
  {
   "cell_type": "code",
   "execution_count": null,
   "metadata": {},
   "outputs": [],
   "source": [
    "# Train \n",
    "!./darknet detector train data-custom/obj.data data-custom/yolov4-tiny-custom.cfg yolov4-tiny.conv.29 -dont_show -map"
   ]
  }
 ],
 "metadata": {
  "language_info": {
   "name": "python"
  }
 },
 "nbformat": 4,
 "nbformat_minor": 2
}
